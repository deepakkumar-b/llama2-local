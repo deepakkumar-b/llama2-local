{
 "cells": [
  {
   "cell_type": "code",
   "execution_count": 2,
   "id": "0378b92b",
   "metadata": {},
   "outputs": [
    {
     "name": "stdout",
     "output_type": "stream",
     "text": [
      "Unrecognized emotion\n",
      "You are angry. Your responses are furious and should burst out anger.\n",
      "Unrecognized emotion\n",
      "Unrecognized emotion\n",
      "Unrecognized emotion\n"
     ]
    }
   ],
   "source": [
    "from nltk.corpus import wordnet\n",
    "from nltk.stem import WordNetLemmatizer\n",
    "lemmatizer = WordNetLemmatizer()\n",
    "\n",
    "def get_standard_input(word):\n",
    "  \"\"\"\n",
    "  Matches an input word with similar standard words and returns a corresponding message.\n",
    "\n",
    "  Args:\n",
    "      word: The input word to be matched.\n",
    "\n",
    "  Returns:\n",
    "      A string describing the matched standard personality and response style, \n",
    "      or \"Unrecognized emotion\" if no close match is found.\n",
    "  \"\"\"\n",
    "  # Define standard emotions and their message templates\n",
    "  emotions = {\n",
    "      \"joyful\": \"You are joyful and full of energy. Your responses should be energizing.\",\n",
    "      \"angry\": \"You are angry. Your responses are furious and should burst out anger.\",\n",
    "      \"sad\": \"You are feeling down. Your responses should be melancholic and reflect sadness.\",\n",
    "      \"calm\": \"You are calm and collected. Your responses should be peaceful and rational.\"\n",
    "  }\n",
    "\n",
    "  # Use WordNet to find synonyms for the input word\n",
    "  synsets = wordnet.synsets(word)\n",
    "\n",
    "  # Find the most similar standard emotion based on wordnet path similarity\n",
    "  max_similarity = 0\n",
    "  closest_emotion = None\n",
    "\n",
    "  for synset in synsets:\n",
    "    # Synset is in format: Synset('ferocious.s.01'), Synset('angry.s.02')\n",
    "    for lemma in synset.lemmas():\n",
    "      emotion_lemma = lemmatizer.lemmatize(lemma.name(), pos=wordnet.ADJ);\n",
    "      if emotion_lemma in emotions:\n",
    "        # emotion_lemma like angry\n",
    "        path_similarity = synset.path_similarity(wordnet.synset(synset.name()))\n",
    "        if path_similarity is not None and path_similarity > max_similarity:\n",
    "          max_similarity = path_similarity\n",
    "          closest_emotion = emotion_lemma\n",
    "\n",
    "  # Return the message for the closest emotion or \"Unrecognized emotion\"\n",
    "  if closest_emotion:\n",
    "    return emotions[closest_emotion]\n",
    "  else:\n",
    "    return \"Unrecognized emotion\"\n",
    "\n",
    "# Example usage\n",
    "print(get_standard_input(\"bubbly\"))  # Output: You are joyful and full of energy. Your responses should be energizing.\n",
    "print(get_standard_input(\"furious\"))  # Output: You are angry. Your responses are furious and should burst out anger.\n",
    "print(get_standard_input(\"gloomy\"))  # Output: You are feeling down. Your responses should be melancholic and reflect sadness. (matches \"sad\")\n",
    "print(get_standard_input(\"peaceful\"))  # Output: You are calm and collected. Your responses should be peaceful and rational. (matches \"calm\")\n",
    "print(get_standard_input(\"tired\"))  # Output: Unrecognized emotion\n"
   ]
  },
  {
   "cell_type": "code",
   "execution_count": null,
   "id": "3af1f712",
   "metadata": {},
   "outputs": [],
   "source": []
  }
 ],
 "metadata": {
  "kernelspec": {
   "display_name": "Python 3 (ipykernel)",
   "language": "python",
   "name": "python3"
  },
  "language_info": {
   "codemirror_mode": {
    "name": "ipython",
    "version": 3
   },
   "file_extension": ".py",
   "mimetype": "text/x-python",
   "name": "python",
   "nbconvert_exporter": "python",
   "pygments_lexer": "ipython3",
   "version": "3.10.10"
  }
 },
 "nbformat": 4,
 "nbformat_minor": 5
}
