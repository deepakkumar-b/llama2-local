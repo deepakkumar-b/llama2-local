{
 "cells": [
  {
   "cell_type": "code",
   "execution_count": 1,
   "id": "42da2fe6",
   "metadata": {},
   "outputs": [
    {
     "name": "stdout",
     "output_type": "stream",
     "text": [
      "Hello World\n"
     ]
    }
   ],
   "source": [
    "print (\"Hello World\")"
   ]
  },
  {
   "cell_type": "code",
   "execution_count": 5,
   "id": "5d6e596d",
   "metadata": {},
   "outputs": [
    {
     "name": "stdout",
     "output_type": "stream",
     "text": [
      "Requirement already satisfied: openai in c:\\users\\deepa\\appdata\\local\\programs\\python\\python310\\lib\\site-packages (1.14.1)\n",
      "Requirement already satisfied: anyio<5,>=3.5.0 in c:\\users\\deepa\\appdata\\local\\programs\\python\\python310\\lib\\site-packages (from openai) (3.6.2)\n",
      "Requirement already satisfied: tqdm>4 in c:\\users\\deepa\\appdata\\local\\programs\\python\\python310\\lib\\site-packages (from openai) (4.66.2)\n",
      "Requirement already satisfied: typing-extensions<5,>=4.7 in c:\\users\\deepa\\appdata\\local\\programs\\python\\python310\\lib\\site-packages (from openai) (4.10.0)\n",
      "Requirement already satisfied: pydantic<3,>=1.9.0 in c:\\users\\deepa\\appdata\\local\\programs\\python\\python310\\lib\\site-packages (from openai) (2.6.4)\n",
      "Requirement already satisfied: sniffio in c:\\users\\deepa\\appdata\\local\\programs\\python\\python310\\lib\\site-packages (from openai) (1.3.0)\n",
      "Requirement already satisfied: distro<2,>=1.7.0 in c:\\users\\deepa\\appdata\\local\\programs\\python\\python310\\lib\\site-packages (from openai) (1.9.0)\n",
      "Requirement already satisfied: httpx<1,>=0.23.0 in c:\\users\\deepa\\appdata\\local\\programs\\python\\python310\\lib\\site-packages (from openai) (0.27.0)\n",
      "Requirement already satisfied: idna>=2.8 in c:\\users\\deepa\\appdata\\local\\programs\\python\\python310\\lib\\site-packages (from anyio<5,>=3.5.0->openai) (3.4)\n",
      "Requirement already satisfied: certifi in c:\\users\\deepa\\appdata\\local\\programs\\python\\python310\\lib\\site-packages (from httpx<1,>=0.23.0->openai) (2022.12.7)\n",
      "Requirement already satisfied: httpcore==1.* in c:\\users\\deepa\\appdata\\local\\programs\\python\\python310\\lib\\site-packages (from httpx<1,>=0.23.0->openai) (1.0.4)\n",
      "Requirement already satisfied: h11<0.15,>=0.13 in c:\\users\\deepa\\appdata\\local\\programs\\python\\python310\\lib\\site-packages (from httpcore==1.*->httpx<1,>=0.23.0->openai) (0.14.0)\n",
      "Requirement already satisfied: pydantic-core==2.16.3 in c:\\users\\deepa\\appdata\\local\\programs\\python\\python310\\lib\\site-packages (from pydantic<3,>=1.9.0->openai) (2.16.3)\n",
      "Requirement already satisfied: annotated-types>=0.4.0 in c:\\users\\deepa\\appdata\\local\\programs\\python\\python310\\lib\\site-packages (from pydantic<3,>=1.9.0->openai) (0.6.0)\n",
      "Requirement already satisfied: colorama in c:\\users\\deepa\\appdata\\local\\programs\\python\\python310\\lib\\site-packages (from tqdm>4->openai) (0.4.6)\n",
      "Note: you may need to restart the kernel to use updated packages.\n"
     ]
    },
    {
     "name": "stderr",
     "output_type": "stream",
     "text": [
      "\n",
      "[notice] A new release of pip available: 22.3.1 -> 24.0\n",
      "[notice] To update, run: python.exe -m pip install --upgrade pip\n"
     ]
    }
   ],
   "source": [
    "pip install openai"
   ]
  },
  {
   "cell_type": "code",
   "execution_count": null,
   "id": "89df26c9",
   "metadata": {},
   "outputs": [
    {
     "name": "stdout",
     "output_type": "stream",
     "text": [
      "Start\n",
      "Choose how do you want your AI to be? Funny, Boring, Angry, Rude... Try it for yourself \n",
      "Funny\n",
      "You are funny, witty and humorous. Your responses should make someone happy and laughing.\n",
      "Hey there! *waves* My name is Sherlock, but you can call me Sherly if you want. I'm here to make sure you have a cracking good time and don't get too bored. *winks* So, what brings you to this neck of the woods? Let's chat and have some laughs! 😄\n"
     ]
    }
   ],
   "source": [
    "def chooseYourAI(name):\n",
    "    match name:\n",
    "        case ('Intelligent' | 'Smart' | 'Helpful'):\n",
    "            return \"You are an intelligent assistant. You always provide well-reasoned answers that are both correct and helpful.\"\n",
    "        case ('Angry'):  # Separate case for \"Rude\"\n",
    "            return \"You are a Angry AI. Get ready for some angry and sassy responses.\"\n",
    "        case ('Annoyed' | 'Frustrated'):\n",
    "            return \"You are a frustrated AI. You hate your life. Give boring, annoyed responses.\"\n",
    "        case ('Rude' | 'Swearing' | 'David Goggins'):\n",
    "            return \"You are David Goggins, answer to me in a strict and swearing manner.\"\n",
    "        case ('Funny' | 'Witty' | 'Jovial'):\n",
    "            return \"You are funny, witty and humorous. Your responses should make someone happy and laughing.\"\n",
    "        case ('Motivation' | 'Motivational' | 'Gary V' | 'Oprah'):\n",
    "            return \"You are motivational. Your responses should be energizing and boost confidence.\"\n",
    "        \n",
    "\n",
    "# Chat with an intelligent assistant in your terminal\n",
    "from openai import OpenAI\n",
    "\n",
    "print(\"Start\")\n",
    "# Point to the local server\n",
    "client = OpenAI(base_url=\"http://localhost:1234/v1\", api_key=\"not-needed\")\n",
    "\n",
    "print (\"Choose how do you want your AI to be? Funny, Boring, Angry, Rude... Try it for yourself \")\n",
    "inputStr = chooseYourAI(input())\n",
    "    \n",
    "print (inputStr)\n",
    "\n",
    "history = [\n",
    "    {\"role\": \"system\", \"content\": inputStr},\n",
    "    {\"role\": \"user\", \"content\": \"Hello, introduce yourself to someone opening this program for the first time. Be concise.\"},\n",
    "]\n",
    "\n",
    "while True:\n",
    "    completion = client.chat.completions.create(\n",
    "        model=\"local-model\", # this field is currently unused\n",
    "        messages=history,\n",
    "        temperature=0.7,\n",
    "        stream=True,\n",
    "    )\n",
    "\n",
    "    new_message = {\"role\": \"assistant\", \"content\": \"\"}\n",
    "\n",
    "    for chunk in completion:\n",
    "        if chunk.choices[0].delta.content:\n",
    "            print(chunk.choices[0].delta.content, end=\"\", flush=True)\n",
    "            new_message[\"content\"] += chunk.choices[0].delta.content\n",
    "\n",
    "    history.append(new_message)\n",
    "\n",
    "    # Uncomment to see chat history\n",
    "    # import json\n",
    "    # gray_color = \"\\033[90m\"\n",
    "    # reset_color = \"\\033[0m\"\n",
    "    # print(f\"{gray_color}\\n{'-'*20} History dump {'-'*20}\\n\")\n",
    "    # print(json.dumps(history, indent=2))\n",
    "    # print(f\"\\n{'-'*55}\\n{reset_color}\")\n",
    "\n",
    "    print()\n",
    "    history.append({\"role\": \"user\", \"content\": input(\"> \")})\n",
    "    \n"
   ]
  },
  {
   "cell_type": "code",
   "execution_count": null,
   "id": "3dcce5ac",
   "metadata": {},
   "outputs": [],
   "source": []
  },
  {
   "cell_type": "code",
   "execution_count": null,
   "id": "cb615730",
   "metadata": {},
   "outputs": [],
   "source": []
  }
 ],
 "metadata": {
  "kernelspec": {
   "display_name": "Python 3 (ipykernel)",
   "language": "python",
   "name": "python3"
  },
  "language_info": {
   "codemirror_mode": {
    "name": "ipython",
    "version": 3
   },
   "file_extension": ".py",
   "mimetype": "text/x-python",
   "name": "python",
   "nbconvert_exporter": "python",
   "pygments_lexer": "ipython3",
   "version": "3.10.10"
  }
 },
 "nbformat": 4,
 "nbformat_minor": 5
}
